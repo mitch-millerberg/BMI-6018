{
 "cells": [
  {
   "cell_type": "markdown",
   "id": "a6f28e2e-ff22-4af9-a4d9-3a0f9e2be93a",
   "metadata": {},
   "source": [
    "# Numeric Data Types"
   ]
  },
  {
   "cell_type": "code",
   "execution_count": 1,
   "id": "a55f77cb-1f35-46de-a311-1198984f89fb",
   "metadata": {
    "tags": []
   },
   "outputs": [
    {
     "name": "stdout",
     "output_type": "stream",
     "text": [
      "7\n"
     ]
    }
   ],
   "source": [
    "print(2 + 5)"
   ]
  },
  {
   "cell_type": "code",
   "execution_count": null,
   "id": "87ce4f0e-c46f-4ec9-9a31-ed955901f0b9",
   "metadata": {
    "tags": []
   },
   "outputs": [],
   "source": [
    "print(2.5 + 5.5)"
   ]
  },
  {
   "cell_type": "code",
   "execution_count": null,
   "id": "3e8ab38d-ac33-4990-8ad7-7be94408bf37",
   "metadata": {
    "tags": []
   },
   "outputs": [],
   "source": [
    "print(2 + 6.5)"
   ]
  },
  {
   "cell_type": "code",
   "execution_count": null,
   "id": "8e38c699-0a26-4ba1-aac7-ee0b5205d3bd",
   "metadata": {
    "tags": []
   },
   "outputs": [],
   "source": [
    "print(2.0 + 6.0)"
   ]
  },
  {
   "cell_type": "code",
   "execution_count": null,
   "id": "e9cbdd37-3218-4bf3-9f31-c55172cc1816",
   "metadata": {
    "tags": []
   },
   "outputs": [],
   "source": [
    "print(type(2.0))\n",
    "print(type(2))"
   ]
  },
  {
   "cell_type": "markdown",
   "id": "d3d74404-186d-4f4d-b74d-cb1793947978",
   "metadata": {},
   "source": [
    "### type conversion"
   ]
  },
  {
   "cell_type": "code",
   "execution_count": null,
   "id": "2dabcfae-d639-4dd2-80f4-c02ddb344a6d",
   "metadata": {
    "tags": []
   },
   "outputs": [],
   "source": [
    "#implicit:\n",
    "print(3 + 5.2)"
   ]
  },
  {
   "cell_type": "code",
   "execution_count": null,
   "id": "9dbd24cd-9c3f-4c25-ab1b-c1ec6c90cfac",
   "metadata": {
    "tags": []
   },
   "outputs": [],
   "source": [
    "#explicit:\n",
    "x = 3\n",
    "print(x, type(x))\n",
    "\n",
    "x = float(x)\n",
    "print(x, type(x))"
   ]
  },
  {
   "cell_type": "code",
   "execution_count": null,
   "id": "e7a39cb8-161f-479f-a67d-516eb73288a4",
   "metadata": {
    "tags": []
   },
   "outputs": [],
   "source": [
    "print(3 + ' hospitals')"
   ]
  },
  {
   "cell_type": "markdown",
   "id": "0e60d6e8-8457-4c30-8b0e-e519f92ad62b",
   "metadata": {},
   "source": [
    "Computer doesn't know how to automatically (implicitly) convert int -> str or str -> int. (We'll have to be explicit)"
   ]
  },
  {
   "cell_type": "code",
   "execution_count": null,
   "id": "947a86ff-3ceb-4086-8372-6973e79c68ad",
   "metadata": {
    "tags": []
   },
   "outputs": [],
   "source": [
    "print(str(3) + ' hospitals')"
   ]
  },
  {
   "cell_type": "code",
   "execution_count": null,
   "id": "ceb8b7db-1c41-48a6-a57f-5cc6aaac2314",
   "metadata": {
    "tags": []
   },
   "outputs": [],
   "source": [
    "num = 3\n",
    "my_string = ' hospitals'\n",
    "num = str(3)\n",
    "\n",
    "print(num + my_string)"
   ]
  },
  {
   "cell_type": "markdown",
   "id": "eedcad69-b416-4d21-a6e8-48db8c1b68c4",
   "metadata": {
    "tags": []
   },
   "source": [
    "Computer knows how to add two strings together"
   ]
  },
  {
   "cell_type": "markdown",
   "id": "7778905b-833e-44b2-b90f-c9913c8ae181",
   "metadata": {},
   "source": [
    "## Numeric Operations"
   ]
  },
  {
   "cell_type": "code",
   "execution_count": null,
   "id": "c7e4540c-9614-4f2a-86d7-c75d5683f23f",
   "metadata": {
    "tags": []
   },
   "outputs": [],
   "source": [
    "#addition\n",
    "3 + 4"
   ]
  },
  {
   "cell_type": "code",
   "execution_count": null,
   "id": "26b24283-b808-4a44-8d7a-92f6252444ff",
   "metadata": {
    "tags": []
   },
   "outputs": [],
   "source": [
    "#subtraction\n",
    "3 - 4"
   ]
  },
  {
   "cell_type": "code",
   "execution_count": null,
   "id": "e4af8834-ea28-404c-8dfe-bcce3c78ce76",
   "metadata": {
    "tags": []
   },
   "outputs": [],
   "source": [
    "#multiplication\n",
    "3 * 4"
   ]
  },
  {
   "cell_type": "code",
   "execution_count": null,
   "id": "bcdb4955-ed59-4bab-b582-4f79542966b6",
   "metadata": {
    "tags": []
   },
   "outputs": [],
   "source": [
    "#division\n",
    "3 / 4"
   ]
  },
  {
   "cell_type": "code",
   "execution_count": null,
   "id": "dd3faf27-b0df-4296-8451-56efb22463be",
   "metadata": {
    "tags": []
   },
   "outputs": [],
   "source": [
    "#floor division\n",
    "3 // 4"
   ]
  },
  {
   "cell_type": "code",
   "execution_count": null,
   "id": "32157114-4070-4e36-b0fa-8d627f9830b1",
   "metadata": {
    "tags": []
   },
   "outputs": [],
   "source": [
    "#mod (remainder)\n",
    "4 % 3"
   ]
  },
  {
   "cell_type": "code",
   "execution_count": null,
   "id": "4099ce22-22be-4e35-82ab-8a9dff344a3c",
   "metadata": {
    "tags": []
   },
   "outputs": [],
   "source": [
    "#power\n",
    "4 ** 3"
   ]
  },
  {
   "cell_type": "markdown",
   "id": "d92d3ccb-72d5-41b6-9421-85e3334094e1",
   "metadata": {},
   "source": [
    "## Why not just float?"
   ]
  },
  {
   "cell_type": "code",
   "execution_count": null,
   "id": "be5bebd7-7ea9-4c22-92ce-84fb7754f18a",
   "metadata": {
    "tags": []
   },
   "outputs": [],
   "source": [
    "import sys \n",
    "\n",
    "print(sys.getsizeof(1)) \n",
    "print(sys.getsizeof(11111111111111111111111)) \n",
    "print(sys.getsizeof(11111111111111111111111111111111111111111111111111111111111111111111)) \n",
    "print(sys.getsizeof(1.0)) \n",
    "print(sys.getsizeof(11111111111111111111111.0)) \n",
    "print(sys.getsizeof(11111111111111111111111111111111111111111111111111111111111111111111.0))"
   ]
  },
  {
   "cell_type": "code",
   "execution_count": null,
   "id": "2478dbab-8ae3-456c-aed0-db0c04a3c305",
   "metadata": {
    "tags": []
   },
   "outputs": [],
   "source": [
    "sum(1.1 for number in range(9))"
   ]
  },
  {
   "cell_type": "code",
   "execution_count": null,
   "id": "6d85f1c3-1e2d-428e-b104-326f5883ffad",
   "metadata": {
    "tags": []
   },
   "outputs": [],
   "source": [
    "a = 1000000000000000000000000000\n",
    "a+1 == a"
   ]
  },
  {
   "cell_type": "code",
   "execution_count": null,
   "id": "b15c75e7-d411-4ab2-96ca-a98b2fb60a30",
   "metadata": {
    "tags": []
   },
   "outputs": [],
   "source": [
    "a = 1000000000000000000000000000.0\n",
    "a+1 == a"
   ]
  },
  {
   "cell_type": "markdown",
   "id": "d6eac630-d9b5-4477-b581-dfe3832f8c83",
   "metadata": {},
   "source": [
    "Floats might not be as precise!"
   ]
  }
 ],
 "metadata": {
  "kernelspec": {
   "display_name": "Python 3 (ipykernel)",
   "language": "python",
   "name": "python3"
  },
  "language_info": {
   "codemirror_mode": {
    "name": "ipython",
    "version": 3
   },
   "file_extension": ".py",
   "mimetype": "text/x-python",
   "name": "python",
   "nbconvert_exporter": "python",
   "pygments_lexer": "ipython3",
   "version": "3.9.12"
  }
 },
 "nbformat": 4,
 "nbformat_minor": 5
}
