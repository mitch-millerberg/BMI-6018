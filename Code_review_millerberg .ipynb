{
 "cells": [
  {
   "cell_type": "code",
   "execution_count": null,
   "id": "e9c4451d",
   "metadata": {
    "slideshow": {
     "slide_type": "notes"
    }
   },
   "outputs": [],
   "source": [
    "1.a Create a list of integers no fewer than 10 items from 0 to 9.\n"
   ]
  },
  {
   "cell_type": "code",
   "execution_count": 1,
   "id": "7d3f75ef",
   "metadata": {},
   "outputs": [
    {
     "name": "stdout",
     "output_type": "stream",
     "text": [
      "original list [0, 1, 2, 3, 4, 5, 6, 7, 8, 9]\n",
      "Modified List = [0, 1, 2, 3, 4, 8, 6, 7, 8, 9]\n",
      "float_list_1 =  [0.0, 1.0, 2.0, 3.0, 4.0, 8.0, 6.0, 7.0, 8.0, 9.0]\n",
      "list_1 =  [0, 1, 2, 3, 4, 8, 6, 7, 8, 9]\n",
      "converted into a set = {0, 1, 2, 3, 4, 6, 7, 8, 9}\n"
     ]
    }
   ],
   "source": [
    "list_1 = [0,1,2,3,4,5,6,7,8,9]\n",
    "print (\"original list\",list_1)\n",
    "list_1[5]+=3\n",
    "\n",
    "print(\"Modified List =\",list_1)\n",
    "\n",
    "float_list_1 = list(map(float,list_1))\n",
    "print(\"float_list_1 = \",float_list_1)\n",
    "\n",
    "set_list=set(list_1)\n",
    "print(\"list_1 = \",list_1)\n",
    "print(\"converted into a set =\",set_list)\n"
   ]
  },
  {
   "cell_type": "code",
   "execution_count": null,
   "id": "f645a8f4",
   "metadata": {
    "slideshow": {
     "slide_type": "notes"
    }
   },
   "outputs": [],
   "source": [
    ".e Using a method, append int 10 to the set\n",
    "\n",
    "# Appending the integer 10 to the list"
   ]
  },
  {
   "cell_type": "code",
   "execution_count": 2,
   "id": "b4279d90",
   "metadata": {},
   "outputs": [
    {
     "name": "stdout",
     "output_type": "stream",
     "text": [
      "updated list_1 [0, 1, 2, 3, 4, 8, 6, 7, 8, 9, 10]\n"
     ]
    }
   ],
   "source": [
    "list_1.append(10)\n",
    "print(\"updated list_1\", list_1)"
   ]
  },
  {
   "cell_type": "code",
   "execution_count": null,
   "id": "919f0f7b",
   "metadata": {
    "slideshow": {
     "slide_type": "notes"
    }
   },
   "outputs": [],
   "source": [
    "\".f Using a method, pop an item from the set\"\n",
    "\n",
    "\"what item was popped out of the list?\"\n",
    "\n",
    "\"Any guesses?\"\n"
   ]
  },
  {
   "cell_type": "code",
   "execution_count": 3,
   "id": "6037adcb",
   "metadata": {},
   "outputs": [
    {
     "name": "stdout",
     "output_type": "stream",
     "text": [
      "popped item 10\n",
      "updated list: [0, 1, 2, 3, 4, 8, 6, 7, 8, 9]\n"
     ]
    }
   ],
   "source": [
    "popped_item = list_1.pop()\n",
    "print(\"popped item\",popped_item) \n",
    "print(\"updated list:\", list_1)"
   ]
  },
  {
   "cell_type": "code",
   "execution_count": null,
   "id": "247e76d2",
   "metadata": {
    "slideshow": {
     "slide_type": "notes"
    }
   },
   "outputs": [],
   "source": [
    "\".g Using a length counting function, count the number of items in the set\""
   ]
  },
  {
   "cell_type": "code",
   "execution_count": 4,
   "id": "383cbd74",
   "metadata": {},
   "outputs": [
    {
     "name": "stdout",
     "output_type": "stream",
     "text": [
      "The number of item in list_1 is  10\n",
      "{0, 1, 2, 3, 4, 6, 7, 8, 9}\n",
      "[0, 1, 2, 3, 4, 8, 6, 7, 8, 9]\n"
     ]
    }
   ],
   "source": [
    "count = len(list_1)\n",
    "print(\"The number of item in list_1 is \",count)\n",
    "print (set_list)\n",
    "print (list_1)"
   ]
  },
  {
   "cell_type": "code",
   "execution_count": null,
   "id": "82d8fcd5",
   "metadata": {
    "slideshow": {
     "slide_type": "notes"
    }
   },
   "outputs": [],
   "source": [
    "\".h Check if the number of items in the set is the same as the \n",
    "    \"number of items in the list\"\n",
    "    # Check if the lengths are the same"
   ]
  },
  {
   "cell_type": "code",
   "execution_count": 5,
   "id": "740aa4c4",
   "metadata": {},
   "outputs": [
    {
     "name": "stdout",
     "output_type": "stream",
     "text": [
      "The number of items in the list and the set are different.\n"
     ]
    }
   ],
   "source": [
    "\n",
    "if len(list_1) == len(set_list):\n",
    "    print(\"The number of items in the list and the set are the same.\")\n",
    "else:\n",
    "    print(\"The number of items in the list and the set are different.\")"
   ]
  }
 ],
 "metadata": {
  "celltoolbar": "Slideshow",
  "kernelspec": {
   "display_name": "Python 3 (ipykernel)",
   "language": "python",
   "name": "python3"
  },
  "language_info": {
   "codemirror_mode": {
    "name": "ipython",
    "version": 3
   },
   "file_extension": ".py",
   "mimetype": "text/x-python",
   "name": "python",
   "nbconvert_exporter": "python",
   "pygments_lexer": "ipython3",
   "version": "3.9.12"
  }
 },
 "nbformat": 4,
 "nbformat_minor": 5
}
