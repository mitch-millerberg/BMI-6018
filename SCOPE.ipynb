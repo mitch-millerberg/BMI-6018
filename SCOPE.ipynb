{
 "cells": [
  {
   "cell_type": "markdown",
   "id": "c04d76bf",
   "metadata": {},
   "source": [
    "## Scope "
   ]
  },
  {
   "cell_type": "markdown",
   "id": "04dd1295",
   "metadata": {},
   "source": [
    "- When you create a variable name in Python, the name is stored in 'namespace'. \n",
    "- Variable names also have a scope, and the scope determines the visibility of the variable name to other parts of the code. "
   ]
  },
  {
   "cell_type": "code",
   "execution_count": 7,
   "id": "9a8aa392",
   "metadata": {},
   "outputs": [
    {
     "name": "stdout",
     "output_type": "stream",
     "text": [
      "3\n"
     ]
    }
   ],
   "source": [
    "x = 10\n",
    "\n",
    "def func():\n",
    "    x=3\n",
    "    print(x)\n",
    "\n",
    "func()"
   ]
  },
  {
   "cell_type": "code",
   "execution_count": 8,
   "id": "8890e679",
   "metadata": {},
   "outputs": [
    {
     "name": "stdout",
     "output_type": "stream",
     "text": [
      "10\n"
     ]
    }
   ],
   "source": [
    "print(x)"
   ]
  },
  {
   "cell_type": "markdown",
   "id": "0ddde718",
   "metadata": {},
   "source": [
    "- Why do we get two different answers? "
   ]
  },
  {
   "cell_type": "markdown",
   "id": "9bd2a3a3",
   "metadata": {},
   "source": [
    "# LEGB Rule: \n",
    "- L: Local - Names assigned in any way within a function (def or lambda), and not declared global in function\n",
    "- E: Enclosing function locals - Names in local scope of any and all enclosing functions, from inner to outer\n",
    "- G: Global -  Names assigned at the top-evel of a module file, or declared global in a def within the file\n",
    "- B: Built-in (Python) - Names assigned in the built-in names module : open, range, SyntaxError,.. "
   ]
  },
  {
   "cell_type": "code",
   "execution_count": 13,
   "id": "52aabba4",
   "metadata": {},
   "outputs": [
    {
     "name": "stdout",
     "output_type": "stream",
     "text": [
      "Hello Kolton\n"
     ]
    }
   ],
   "source": [
    "name = 'THIS IS A GLOBAL STRING' #GLOBAL\n",
    "\n",
    "def greet():\n",
    "    name = 'Sam' #ENCLOSING\n",
    "    def hello(): \n",
    "        name = 'Kolton' #LOCAL\n",
    "        print('Hello ' + name)\n",
    "        \n",
    "    hello()\n",
    "greet()"
   ]
  },
  {
   "cell_type": "code",
   "execution_count": 40,
   "id": "0581d81e",
   "metadata": {},
   "outputs": [
    {
     "name": "stdout",
     "output_type": "stream",
     "text": [
      "x is 10 GLOBALLY\n",
      "Changing x to 3 LOCALLY\n"
     ]
    }
   ],
   "source": [
    "x = 10\n",
    "\n",
    "def func(x):\n",
    "    print(f'x is {x} GLOBALLY') #Returns GLOBAL\n",
    "    \n",
    "    #LOCAL reassignment!\n",
    "    x=3\n",
    "    print(f'Changing x to {x} LOCALLY')\n",
    "\n",
    "func(x)"
   ]
  },
  {
   "cell_type": "code",
   "execution_count": 42,
   "id": "87a958b7",
   "metadata": {},
   "outputs": [],
   "source": [
    "x = 10\n",
    "\n",
    "def func():\n",
    "    global x\n",
    "    print(f'x is {x} GLOBALLY') #Returns GLOBAL\n",
    "    \n",
    "    #LOCAL reassignment!\n",
    "    x= 'NEW VALUE'\n",
    "    print(f'Changing x to {x} LOCALLY')"
   ]
  },
  {
   "cell_type": "code",
   "execution_count": 41,
   "id": "387d2baf",
   "metadata": {},
   "outputs": [
    {
     "name": "stdout",
     "output_type": "stream",
     "text": [
      "10\n"
     ]
    }
   ],
   "source": [
    "print(x)"
   ]
  },
  {
   "cell_type": "code",
   "execution_count": 43,
   "id": "c7b801d2",
   "metadata": {},
   "outputs": [
    {
     "name": "stdout",
     "output_type": "stream",
     "text": [
      "x is 10 GLOBALLY\n",
      "Changing x to NEW VALUE LOCALLY\n"
     ]
    }
   ],
   "source": [
    "func()"
   ]
  },
  {
   "cell_type": "code",
   "execution_count": 44,
   "id": "13484040",
   "metadata": {},
   "outputs": [
    {
     "name": "stdout",
     "output_type": "stream",
     "text": [
      "NEW VALUE\n"
     ]
    }
   ],
   "source": [
    "print(x)"
   ]
  },
  {
   "cell_type": "markdown",
   "id": "e7a46e7a",
   "metadata": {},
   "source": [
    "- Using global keyword, you're able to reach out into that global namespace and then your local assignment do affect that global variable. \n",
    "- Since the global keyword is able to do this, as a begineer you should **AVOID** it."
   ]
  },
  {
   "cell_type": "code",
   "execution_count": null,
   "id": "a0def1ac",
   "metadata": {},
   "outputs": [],
   "source": []
  }
 ],
 "metadata": {
  "kernelspec": {
   "display_name": "Python 3 (ipykernel)",
   "language": "python",
   "name": "python3"
  },
  "language_info": {
   "codemirror_mode": {
    "name": "ipython",
    "version": 3
   },
   "file_extension": ".py",
   "mimetype": "text/x-python",
   "name": "python",
   "nbconvert_exporter": "python",
   "pygments_lexer": "ipython3",
   "version": "3.9.12"
  }
 },
 "nbformat": 4,
 "nbformat_minor": 5
}
